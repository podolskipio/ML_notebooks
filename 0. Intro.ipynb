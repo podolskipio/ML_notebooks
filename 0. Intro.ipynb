{
 "cells": [
  {
   "cell_type": "markdown",
   "metadata": {},
   "source": [
    "# Intro to ML environment"
   ]
  },
  {
   "cell_type": "markdown",
   "metadata": {},
   "source": [
    "“A computer program is said to learn from experience E with respect to some class of tasks T and performance measure P, if its performance at tasks in T, as measured by P, improves with experience E.” Tom. M. Mitchell\n",
    "\n",
    "There are two main types of machine learning problems:\n",
    "- Supervised algorithms: the datasets used for these algorithms contain several features and have an associated label or target\n",
    "- Unsupervised algorithms: the datasets also contain several features, but no targets\n",
    "- Reinforcement Learning\n",
    "\n",
    "## Supervised Learning\n",
    "\n",
    "Here an AI system is presented with data which is labeled, which means that each data is labeled with the correct label.\n",
    "\n",
    "There are two main types of supervised learning:\n",
    "- Classification: when the output variable is a category, such as “red” or “blue” or “disease” and “no disease”\n",
    "- Regression: when the output variable is a real value, such as “dollars” or “weight”\n",
    "\n",
    "## Unsupervised Learning \n",
    "\n",
    "Here the AI system is presented with unlabeled, uncategorized data and the system’s algorithms act on the data without prior training.\n",
    "\n",
    "Types of Unsupervised learning:\n",
    "- Clustering: for example when we want to discover the inherent groupings in the data, such as grouping customers by purchasing behavior.\n",
    "- Association: for example when we want to discover rules, such as people that buy X also tend to buy Y\n",
    "\n",
    "## Reinforcement Learning\n",
    "\n",
    "In reinforcement learning the algorithm learns by interacting with its environment. The algorithm learns without intervention from a human by maximizing its reward and minimizing its penalty. \n",
    "\n",
    "\n",
    "## Comparison of different models\n",
    "![source](img/model_comparison.png)\n",
    "Source: https://scikit-learn.org/stable/auto_examples/classification/plot_classifier_comparison.html"
   ]
  },
  {
   "cell_type": "markdown",
   "metadata": {},
   "source": [
    "![title](img/ml_path.png)\n",
    "Source: http://peekaboo-vision.blogspot.de/2013/01/machine-learning-cheat-sheet-for-scikit.html"
   ]
  },
  {
   "cell_type": "markdown",
   "metadata": {},
   "source": [
    "# Using the Jupyter Notebook"
   ]
  },
  {
   "cell_type": "markdown",
   "metadata": {},
   "source": [
    "## Notebook shortcuts\n",
    "For Mac users there are different buttons for Ctrl, Shift, and Alt:\n",
    "- Ctrl: command key ⌘\n",
    "- Shift: Shift ⇧\n",
    "- Alt: option ⌥\n",
    "\n",
    "There are 2 modes in the Jypyter Notebook App: command mode and edit mode.\n",
    "\n",
    "Shortcuts in both modes :\n",
    "- Shift + Enter run the current cell, select below\n",
    "- Ctrl + Enter run selected cells\n",
    "- Alt + Enter run the current cell, insert below\n",
    "- Ctrl + S save and checkpoint\n",
    "\n",
    "While in command mode (press Esc to activate):\n",
    "- Enter take you into edit mode\n",
    "- H show all shortcuts\n",
    "- Up select cell above\n",
    "- Down select cell below\n",
    "- Shift + Up extend selected cells above\n",
    "- Shift + Down extend selected cells below\n",
    "- A insert cell above\n",
    "- B insert cell below\n",
    "- X cut selected cells\n",
    "- C copy selected cells\n",
    "- V paste cells below\n",
    "- Shift + V paste cells above\n",
    "- D, D (press the key twice) delete selected cells\n",
    "- Z undo cell deletion\n",
    "- S Save and Checkpoint\n",
    "- Y change the cell type to Code\n",
    "- M change the cell type to Markdown\n",
    "- P open the command palette. \n",
    "- Shift + Space scroll notebook up\n",
    "- Space scroll notebook down\n",
    "\n",
    "While in edit mode (press Enter to activate)\n",
    "- Esc take you into command mode\n",
    "- Tab code completion or indent\n",
    "- Shift + Tab tooltip\n",
    "- Ctrl + ] indent\n",
    "- Ctrl + [ dedent\n",
    "- Ctrl + A select all\n",
    "- Ctrl + Z undo\n",
    "- Ctrl + Shift + Z or Ctrl + Y redo\n",
    "- Ctrl + Home go to cell start\n",
    "- Ctrl + End go to cell end\n",
    "- Ctrl + Left go one word left\n",
    "- Ctrl + Right go one word right\n",
    "- Ctrl + Shift + P open the command palette\n",
    "- Down move cursor down\n",
    "- Up move cursor up\n",
    "\n",
    "Source: https://towardsdatascience.com/jypyter-notebook-shortcuts-bf0101a98330"
   ]
  },
  {
   "cell_type": "markdown",
   "metadata": {},
   "source": [
    "# Useful resources for learning"
   ]
  },
  {
   "cell_type": "markdown",
   "metadata": {},
   "source": [
    "- Numpy: https://numpy.org/devdocs/index.html\n",
    "- Pandas: https://pandas.pydata.org\n",
    "- Sci-kit: https://scikit-learn.org/stable/\n",
    "- Matplotlib: https://matplotlib.org\n",
    "\n",
    "Tutorials:\n",
    "- Basics\n",
    "    - https://scikit-learn.org/stable/tutorial/index.html\n",
    "    - Hands-On Machine Learning with Scikit-Learn, Keras, and TensorFlow"
   ]
  },
  {
   "cell_type": "markdown",
   "metadata": {},
   "source": [
    "# Cheatsheets"
   ]
  },
  {
   "cell_type": "markdown",
   "metadata": {},
   "source": [
    "## Algorithms\n",
    "\n",
    "![title](img/algorithms.png)\n",
    "Source: http://machinelearningmastery.com/a-tour-of-machine-learning-algorithms/"
   ]
  },
  {
   "cell_type": "markdown",
   "metadata": {},
   "source": [
    "## Neural Networks\n",
    "\n",
    "![title](img/networks.png)\n",
    "Source: http://www.asimovinstitute.org/neural-network-zoo/"
   ]
  },
  {
   "cell_type": "markdown",
   "metadata": {},
   "source": [
    "## Algs pros/cons\n",
    "\n",
    "![title](img/algs_pros_cons.jpg)\n",
    "Source: https://blog.dataiku.com/machine-learning-explained-algorithms-are-your-friend"
   ]
  },
  {
   "cell_type": "markdown",
   "metadata": {},
   "source": [
    "## NumPy\n",
    "\n",
    "![title](img/numpy.png)\n",
    "Source: https://www.dataquest.io/blog/numpy-cheat-sheet/\n",
    "\n",
    "![title](img/numpy2.png)\n",
    "Source: https://www.datacamp.com/community/blog/python-numpy-cheat-sheet#gs.Nw3V6CE"
   ]
  },
  {
   "cell_type": "markdown",
   "metadata": {},
   "source": [
    "## Pandas\n",
    "\n",
    "![title](img/pandas.png)\n",
    "Source: http://datasciencefree.com/pandas.pdf\n",
    "        \n",
    "![title](img/pandas2.png)\n",
    "Source: https://www.datacamp.com/community/blog/python-pandas-cheat-sheet#gs.S4P4T=U"
   ]
  },
  {
   "cell_type": "markdown",
   "metadata": {},
   "source": [
    "## MatPlotLib\n",
    "\n",
    "![title](img/matplotlib.png)\n",
    "Source: https://www.datacamp.com/community/blog/python-matplotlib-cheat-sheet"
   ]
  },
  {
   "cell_type": "markdown",
   "metadata": {},
   "source": [
    "## Sci-kit\n",
    "\n",
    "![title](img/sci-kit.png)\n",
    "Source: https://www.datacamp.com/community/blog/scikit-learn-cheat-sheet#gs.fZ2A1Jk"
   ]
  }
 ],
 "metadata": {
  "kernelspec": {
   "display_name": "Python 3",
   "language": "python",
   "name": "python3"
  },
  "language_info": {
   "codemirror_mode": {
    "name": "ipython",
    "version": 3
   },
   "file_extension": ".py",
   "mimetype": "text/x-python",
   "name": "python",
   "nbconvert_exporter": "python",
   "pygments_lexer": "ipython3",
   "version": "3.7.4"
  }
 },
 "nbformat": 4,
 "nbformat_minor": 2
}
